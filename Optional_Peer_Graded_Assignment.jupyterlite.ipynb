{
  "metadata": {
    "kernelspec": {
      "name": "python",
      "display_name": "Python (Pyodide)",
      "language": "python"
    },
    "language_info": {
      "codemirror_mode": {
        "name": "python",
        "version": 3
      },
      "file_extension": ".py",
      "mimetype": "text/x-python",
      "name": "python",
      "nbconvert_exporter": "python",
      "pygments_lexer": "ipython3",
      "version": "3.8"
    }
  },
  "nbformat_minor": 4,
  "nbformat": 4,
  "cells": [
    {
      "cell_type": "markdown",
      "source": "<p style=\"text-align:center\">\n    <a href=\"https://skills.network/?utm_medium=Exinfluencer&utm_source=Exinfluencer&utm_content=000026UJ&utm_term=10006555&utm_id=NA-SkillsNetwork-Channel-SkillsNetworkCoursesIBMDeveloperSkillsNetworkST0151ENSkillsNetwork20531532-2022-01-01\" target=\"_blank\">\n    <img src=\"https://cf-courses-data.s3.us.cloud-object-storage.appdomain.cloud/assets/logos/SN_web_lightmode.png\" width=\"200\" alt=\"Skills Network Logo\"  />\n    </a>\n</p>\n\n",
      "metadata": {}
    },
    {
      "cell_type": "markdown",
      "source": "#### Import the required libraries we need for the lab.\n",
      "metadata": {}
    },
    {
      "cell_type": "code",
      "source": "import piplite\nawait piplite.install(['numpy'],['pandas'])\nawait piplite.install(['seaborn'])",
      "metadata": {
        "trusted": true
      },
      "outputs": [],
      "execution_count": null
    },
    {
      "cell_type": "code",
      "source": "import pandas as pd\nimport pandas as pd\nimport seaborn as sns\nimport matplotlib.pyplot as pyplot\nimport scipy.stats\nimport statsmodels.api as sm\nfrom statsmodels.formula.api import ols",
      "metadata": {
        "trusted": true
      },
      "outputs": [],
      "execution_count": null
    },
    {
      "cell_type": "markdown",
      "source": "#### Read the dataset in the csv file from the URL\n",
      "metadata": {}
    },
    {
      "cell_type": "code",
      "source": "from js import fetch\nimport io\n\nURL = 'https://cf-courses-data.s3.us.cloud-object-storage.appdomain.cloud/IBMDeveloperSkillsNetwork-ST0151EN-SkillsNetwork/labs/boston_housing.csv'\nresp = await fetch(URL)\nboston_url = io.BytesIO((await resp.arrayBuffer()).to_py())",
      "metadata": {
        "trusted": true
      },
      "outputs": [],
      "execution_count": null
    },
    {
      "cell_type": "code",
      "source": "boston_df=pd.read_csv(boston_url)",
      "metadata": {
        "trusted": true
      },
      "outputs": [],
      "execution_count": null
    },
    {
      "cell_type": "markdown",
      "source": "#### Add your code below following the instructions given in the course to complete the peer graded assignment\n",
      "metadata": {}
    },
    {
      "cell_type": "code",
      "source": "boston_df",
      "metadata": {
        "trusted": true
      },
      "outputs": [],
      "execution_count": null
    },
    {
      "cell_type": "code",
      "source": "boston_df.columns",
      "metadata": {
        "trusted": true
      },
      "outputs": [],
      "execution_count": null
    },
    {
      "cell_type": "code",
      "source": "Task 2: Generate Descriptive Statistics and Visualizations",
      "metadata": {
        "trusted": true
      },
      "outputs": [],
      "execution_count": null
    },
    {
      "cell_type": "code",
      "source": "1. For the \"Median value of owner-occupied homes\" provide a boxplot",
      "metadata": {
        "trusted": true
      },
      "outputs": [],
      "execution_count": null
    },
    {
      "cell_type": "code",
      "source": "ax = sns.boxplot(y = 'MEDV', data = boston_df)\nax.set_title('Median value of owner-occupied homes')\npyplot.show()",
      "metadata": {
        "trusted": true
      },
      "outputs": [],
      "execution_count": null
    },
    {
      "cell_type": "markdown",
      "source": "1. Findings: The above boxplot shows the median value of owner-occupied homes for the variable MEDV, also the outliers",
      "metadata": {}
    },
    {
      "cell_type": "markdown",
      "source": "2. Provide a bar plot for the Charles river variable",
      "metadata": {}
    },
    {
      "cell_type": "code",
      "source": "ax = sns.barplot(x = 'CHAS', data = boston_df)\nax.set_title('Bar plot for the Charles river')\npyplot.show()",
      "metadata": {
        "trusted": true
      },
      "outputs": [],
      "execution_count": null
    },
    {
      "cell_type": "markdown",
      "source": "2. Findings: Many tract don't bound Charles River",
      "metadata": {}
    },
    {
      "cell_type": "markdown",
      "source": "3. Provide a boxplot for the MEDV variable vs the AGE variable. (Discretize the age variable into three groups of 35 years and younger, between 35 and 70 years and 70 years and older)",
      "metadata": {}
    },
    {
      "cell_type": "code",
      "source": "boston_df.loc[(boston_df['AGE'] <= 35), 'age_group'] = '35 years and younger'\nboston_df.loc[(boston_df['AGE'] > 35) & (boston_df['AGE'] < 70), 'age_group'] = 'between 35 and 70 years'\nboston_df.loc[(boston_df['AGE'] >= 70), 'age_group'] = '70 years and older'",
      "metadata": {
        "trusted": true
      },
      "outputs": [],
      "execution_count": null
    },
    {
      "cell_type": "code",
      "source": "ax = sns.boxplot(x = 'MEDV', y = 'age_group', data = boston_df)\nax.set_title('Median value of owner-occupied homes per Age Group')\npyplot.show()",
      "metadata": {
        "trusted": true
      },
      "outputs": [],
      "execution_count": null
    },
    {
      "cell_type": "markdown",
      "source": "3. Findings: The boxplot above shows that on average the median value of owner occupied homes is more for young age comparatively",
      "metadata": {}
    },
    {
      "cell_type": "markdown",
      "source": "4. Provide a scatter plot to show the relationship between Nitric oxide concentrations and the proportion of non-retail business acres per town. What can you say about the relationship?",
      "metadata": {}
    },
    {
      "cell_type": "code",
      "source": "ax = sns.scatterplot(y = 'NOX', x = 'INDUS', data = boston_df)\nax.set_title('Relationship between Nitric oxide concentration and proportion of non-retail business acres per town')\npyplot.show()",
      "metadata": {
        "trusted": true
      },
      "outputs": [],
      "execution_count": null
    },
    {
      "cell_type": "markdown",
      "source": "4. Findings: Values in the bottom-left to middle section of the scatter plot indicates an almost linear  relationship between Nitric oxide concentration and non-retail business acres per town, multiple dots in vertical line after INDUS 15 shows increment in Nitric oxide concentration for same number of non-retail business acres per town",
      "metadata": {}
    },
    {
      "cell_type": "markdown",
      "source": "5. Create a histogram for the pupil to teacher ratio variable",
      "metadata": {}
    },
    {
      "cell_type": "code",
      "source": "ax = sns.histplot(x= 'PTRATIO', data=boston_df)\nax.set_title('Histogram for Pupil to teacher ratio per town')\npyplot.show()",
      "metadata": {
        "trusted": true,
        "scrolled": true
      },
      "outputs": [],
      "execution_count": null
    },
    {
      "cell_type": "markdown",
      "source": "5. Findings: for values between 20 to 21, Pupil to teacher ratio per town is highest ",
      "metadata": {}
    },
    {
      "cell_type": "code",
      "source": "",
      "metadata": {
        "trusted": true
      },
      "outputs": [],
      "execution_count": null
    },
    {
      "cell_type": "markdown",
      "source": "Task 3: Use the appropriate tests to answer the questions provided.",
      "metadata": {}
    },
    {
      "cell_type": "markdown",
      "source": "1. Is there a significant difference in median value of houses bounded by the Charles river or not? (T-test for independent samples)\n",
      "metadata": {}
    },
    {
      "cell_type": "markdown",
      "source": "Null Hypothesis -> There is no difference in median value between houses bounded and not bounded by the Charles River\n\nAlternative Hypothesis -> There is a difference in median value between houses bounded and not bounded by the Charles River\n\nUsing α = 0.05",
      "metadata": {}
    },
    {
      "cell_type": "code",
      "source": "scipy.stats.ttest_ind(boston_df[boston_df['CHAS'] == 0]['MEDV'],\n                      boston_df[boston_df['CHAS'] == 1]['MEDV'], equal_var = True)",
      "metadata": {
        "trusted": true
      },
      "outputs": [],
      "execution_count": null
    },
    {
      "cell_type": "markdown",
      "source": "**Conclusion:** Given the p-value is less than 0.05, we reject the Null Hypothesis, meaning there is not a statistical difference in median value betwenn houses bounded by the Charles River and not bounded by the Charles River",
      "metadata": {}
    },
    {
      "cell_type": "markdown",
      "source": "2. Is there a difference in Median values of houses (MEDV) for each proportion of owner occupied units built prior to 1940 (AGE)? (ANOVA)",
      "metadata": {}
    },
    {
      "cell_type": "markdown",
      "source": "Null Hypotesis: There isn't a difference in Median values of houses (MEDV) for each proportion of owner occpied units built prior to 1940 (AGE)\n\nAlternative Hypothesis: There is a difference in Median values of houses (MEDV) for each proportion of owner occpied units built prior to 1940 (AGE)\n\nUsing α = 0.05",
      "metadata": {}
    },
    {
      "cell_type": "markdown",
      "source": "First, we group the data into categories as the one-way ANOVA can't work with continuous variable - using the existing column that we have created already that are:\n\n*   35 years and younger\n*   between 35 and 70 years\n*   70 years and older",
      "metadata": {}
    },
    {
      "cell_type": "code",
      "source": "boston_df['age_group']",
      "metadata": {
        "trusted": true
      },
      "outputs": [],
      "execution_count": null
    },
    {
      "cell_type": "code",
      "source": "lower = boston_df[boston_df['age_group'] == '35 years and younger']['MEDV']\nmid = boston_df[boston_df['age_group'] == 'between 35 and 70 years']['MEDV']\nhigh = boston_df[boston_df['age_group'] == '70 years and older']['MEDV']\n\nf_statistic, p_value = scipy.stats.f_oneway(lower, mid, high)\nprint(\"F_Statistic: {0}, P-Value: {1}\".format(f_statistic,p_value))",
      "metadata": {
        "trusted": true
      },
      "outputs": [],
      "execution_count": null
    },
    {
      "cell_type": "markdown",
      "source": "**Conclusion:** Given the p-value is less than 0.05, we reject the Null Hypothesis, meaning there is a difference in Median values of houses (MEDV) for each proportion of owner occpied units built prior to 1940 (AGE)",
      "metadata": {}
    },
    {
      "cell_type": "markdown",
      "source": "3. Can we conclude that there is no relationship between Nitric oxide concentrations and proportion of non-retail business acres per town? (Pearson Correlation)",
      "metadata": {}
    },
    {
      "cell_type": "markdown",
      "source": "Null Hypothesis: Nitric Oxide concentration is not correlated with the proportion of non-retail business acres per town\n\nAlternative Hypothesis: Nitric Oxide concentration is correlated with the proportion of non-retail business acres per town\n\nUsing α = 0.05",
      "metadata": {}
    },
    {
      "cell_type": "code",
      "source": "statistic, p_value = scipy.stats.pearsonr(boston_df['NOX'], boston_df['INDUS'])\nprint(\"Statistic: {0}, P-Value: {1}\".format(statistic,p_value))",
      "metadata": {
        "trusted": true
      },
      "outputs": [],
      "execution_count": null
    },
    {
      "cell_type": "markdown",
      "source": "**Conclusion:** Given the p-value is less than 0.05, we reject the Null Hypothesis and conclude that there exists a relationship between Nitric Oxide concentration and proportion of non-retail business acres per town.",
      "metadata": {}
    },
    {
      "cell_type": "markdown",
      "source": "4. What is the impact of an additional weighted distance  to the five Boston employment centres on the median value of owner occupied homes? (Regression analysis)",
      "metadata": {}
    },
    {
      "cell_type": "markdown",
      "source": "Null Hypothesis: there is no impact of an additional weighted distance  to the five Boston employment centres on the median value of owner occupied homes\n\nAlternative Hypothesis: there is an impact of an additional weighted distance  to the five Boston employment centres on the median value of owner occupied homes\n\nUsing α = 0.05",
      "metadata": {}
    },
    {
      "cell_type": "code",
      "source": "## X is the input variables (or independent variables)\nX = boston_df['DIS']\n## y is the target/dependent variable\ny = boston_df['MEDV']\n## add an intercept (beta_0) to our model\nX = sm.add_constant(X) \n\nmodel = sm.OLS(y, X).fit()\npredictions = model.predict(X)\n\n# Print out the statistics\nmodel.summary()",
      "metadata": {
        "trusted": true
      },
      "outputs": [],
      "execution_count": null
    },
    {
      "cell_type": "markdown",
      "source": "**Conclusion:** Given the p-value 0 is less than 0.05, we reject the Null Hypothesis and conclude that there is an impact of an additional weighted distance  to the five Boston employment centres on the median value of owner occupied homes\n\nThe coef of DIS of 1.0916 indicates that an additional weighted distance to the five Boston empolyment centers increases of 1.0916 the median value of owner occupied homes\n",
      "metadata": {}
    },
    {
      "cell_type": "code",
      "source": "",
      "metadata": {
        "trusted": true
      },
      "outputs": [],
      "execution_count": null
    }
  ]
}